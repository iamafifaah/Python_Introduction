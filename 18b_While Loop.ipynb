{
 "cells": [
  {
   "cell_type": "code",
   "execution_count": 6,
   "metadata": {},
   "outputs": [
    {
     "name": "stdout",
     "output_type": "stream",
     "text": [
      "30\n",
      "28.5\n",
      "27.0\n",
      "25.5\n",
      "24.0\n",
      "22.5\n",
      "21.0\n",
      "19.5\n",
      "18.0\n",
      "16.5\n",
      "15.0\n",
      "13.5\n",
      "12.0\n",
      "10.5\n",
      "9.0\n",
      "7.5\n",
      "6.0\n",
      "4.5\n",
      "3.0\n",
      "1.5\n",
      "Let's Go!!!\n"
     ]
    }
   ],
   "source": [
    "angka = 30\n",
    "\n",
    "while angka >= 0:\n",
    "    print(angka)\n",
    "    angka -= 1.5\n",
    "    if angka == 0:\n",
    "        break\n",
    "\n",
    "print(\"Let's Go!!!\")\n",
    "### print(\"stop!!!!!!!!!!\")"
   ]
  },
  {
   "cell_type": "code",
   "execution_count": 1,
   "metadata": {},
   "outputs": [
    {
     "name": "stdout",
     "output_type": "stream",
     "text": [
      "2\n",
      "3\n",
      "4\n",
      "5\n"
     ]
    }
   ],
   "source": [
    "angka = 1\n",
    "\n",
    "while angka < 5:\n",
    "   angka  += 1\n",
    "   print(angka)"
   ]
  },
  {
   "cell_type": "code",
   "execution_count": 12,
   "metadata": {},
   "outputs": [
    {
     "name": "stdout",
     "output_type": "stream",
     "text": [
      "7\n",
      "12\n",
      "17\n",
      "22\n",
      "27\n",
      "32\n",
      "37\n",
      "42\n",
      "47\n",
      "52\n",
      "57\n",
      "62\n",
      "67\n",
      "72\n",
      "77\n",
      "82\n",
      "87\n",
      "92\n",
      "97\n",
      "102\n"
     ]
    }
   ],
   "source": [
    "angka = 2 ## while loop gak bisa dengan data range baik itu list tuple set dan dictionary\n",
    "\n",
    "while angka < 100:\n",
    "    angka += 5\n",
    "    print(angka)"
   ]
  },
  {
   "cell_type": "code",
   "execution_count": null,
   "metadata": {},
   "outputs": [],
   "source": []
  }
 ],
 "metadata": {
  "kernelspec": {
   "display_name": "base",
   "language": "python",
   "name": "base"
  },
  "language_info": {
   "codemirror_mode": {
    "name": "ipython",
    "version": 3
   },
   "file_extension": ".py",
   "mimetype": "text/x-python",
   "name": "python",
   "nbconvert_exporter": "python",
   "pygments_lexer": "ipython3",
   "version": "3.9.12"
  },
  "orig_nbformat": 4,
  "vscode": {
   "interpreter": {
    "hash": "7b1f2b33e866b0bf2409397e5f58ba9cdf170d3b7f64c8f359c79998e2f88ad4"
   }
  }
 },
 "nbformat": 4,
 "nbformat_minor": 2
}
