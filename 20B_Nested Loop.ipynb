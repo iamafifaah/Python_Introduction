{
 "cells": [
  {
   "cell_type": "code",
   "execution_count": 1,
   "id": "c10e7a75",
   "metadata": {},
   "outputs": [
    {
     "name": "stdout",
     "output_type": "stream",
     "text": [
      "How many rows?: 5\n",
      "How many rows?: 6\n",
      "Enter a symbol to use: x\n",
      "xxxxxx\n",
      "xxxxxx\n",
      "xxxxxx\n",
      "xxxxxx\n",
      "xxxxxx\n"
     ]
    }
   ],
   "source": [
    "### Contoh nested loop\n",
    "\n",
    "rows = int(input(\"How many rows?: \"))\n",
    "columns = int(input(\"How many rows?: \"))\n",
    "symbol = input(\"Enter a symbol to use: \")\n",
    "\n",
    "for i in range(rows):\n",
    "    for j in range(columns):\n",
    "        print(symbol, end=\"\")\n",
    "    print()"
   ]
  },
  {
   "cell_type": "code",
   "execution_count": 6,
   "id": "45b6f1b5",
   "metadata": {},
   "outputs": [
    {
     "name": "stdout",
     "output_type": "stream",
     "text": [
      "xyxyxyxyxyxy\n",
      "xyxyxyxyxyxy\n",
      "xyxyxyxyxyxy\n",
      "xyxyxyxyxyxy\n",
      "xyxyxyxyxyxy\n"
     ]
    }
   ],
   "source": [
    "for i in range(5):\n",
    "    for j in range(6):\n",
    "        print(\"x\", end=\"\")\n",
    "        print(\"y\", end=\"\")\n",
    "    print()"
   ]
  },
  {
   "cell_type": "code",
   "execution_count": 17,
   "id": "3bf8842e",
   "metadata": {},
   "outputs": [
    {
     "name": "stdout",
     "output_type": "stream",
     "text": [
      "[ 0 0 ] [ 0 1 ] [ 0 2 ] [ 0 3 ] [ 0 4 ] [ 0 5 ] [ 0 6 ] [ 0 7 ] [ 0 8 ] [ 0 9 ] \n",
      "[ 1 0 ] [ 1 1 ] [ 1 2 ] [ 1 3 ] [ 1 4 ] [ 1 5 ] [ 1 6 ] [ 1 7 ] [ 1 8 ] [ 1 9 ] \n",
      "[ 2 0 ] [ 2 1 ] [ 2 2 ] [ 2 3 ] [ 2 4 ] [ 2 5 ] [ 2 6 ] [ 2 7 ] [ 2 8 ] [ 2 9 ] \n",
      "[ 3 0 ] [ 3 1 ] [ 3 2 ] [ 3 3 ] [ 3 4 ] [ 3 5 ] [ 3 6 ] [ 3 7 ] [ 3 8 ] [ 3 9 ] \n",
      "[ 4 0 ] [ 4 1 ] [ 4 2 ] [ 4 3 ] [ 4 4 ] [ 4 5 ] [ 4 6 ] [ 4 7 ] [ 4 8 ] [ 4 9 ] \n",
      "[ 5 0 ] [ 5 1 ] [ 5 2 ] [ 5 3 ] [ 5 4 ] [ 5 5 ] [ 5 6 ] [ 5 7 ] [ 5 8 ] [ 5 9 ] \n",
      "[ 6 0 ] [ 6 1 ] [ 6 2 ] [ 6 3 ] [ 6 4 ] [ 6 5 ] [ 6 6 ] [ 6 7 ] [ 6 8 ] [ 6 9 ] \n",
      "[ 7 0 ] [ 7 1 ] [ 7 2 ] [ 7 3 ] [ 7 4 ] [ 7 5 ] [ 7 6 ] [ 7 7 ] [ 7 8 ] [ 7 9 ] \n",
      "[ 8 0 ] [ 8 1 ] [ 8 2 ] [ 8 3 ] [ 8 4 ] [ 8 5 ] [ 8 6 ] [ 8 7 ] [ 8 8 ] [ 8 9 ] \n",
      "[ 9 0 ] [ 9 1 ] [ 9 2 ] [ 9 3 ] [ 9 4 ] [ 9 5 ] [ 9 6 ] [ 9 7 ] [ 9 8 ] [ 9 9 ] \n"
     ]
    }
   ],
   "source": [
    "for i in range(0,10):\n",
    "    for j in range(0, 10):\n",
    "        #print(\"x\", end=\"\")\n",
    "        #print(\"y\", end=\"\")\n",
    "        #print(i*j, end = \" \")\n",
    "        print(\"[\",i,j, \"]\", end = \" \")\n",
    "    print()"
   ]
  },
  {
   "cell_type": "code",
   "execution_count": 20,
   "id": "f2c597d6",
   "metadata": {},
   "outputs": [
    {
     "name": "stdout",
     "output_type": "stream",
     "text": [
      "[ 1 ] [ 2 ] [ 3 ] [ 4 ] [ 5 ] [ 6 ] [ 7 ] [ 8 ] [ 9 ] [ 10 ] \n",
      "[ 2 ] [ 4 ] [ 6 ] [ 8 ] [ 10 ] [ 12 ] [ 14 ] [ 16 ] [ 18 ] [ 20 ] \n",
      "[ 3 ] [ 6 ] [ 9 ] [ 12 ] [ 15 ] [ 18 ] [ 21 ] [ 24 ] [ 27 ] [ 30 ] \n",
      "[ 4 ] [ 8 ] [ 12 ] [ 16 ] [ 20 ] [ 24 ] [ 28 ] [ 32 ] [ 36 ] [ 40 ] \n",
      "[ 5 ] [ 10 ] [ 15 ] [ 20 ] [ 25 ] [ 30 ] [ 35 ] [ 40 ] [ 45 ] [ 50 ] \n",
      "[ 6 ] [ 12 ] [ 18 ] [ 24 ] [ 30 ] [ 36 ] [ 42 ] [ 48 ] [ 54 ] [ 60 ] \n",
      "[ 7 ] [ 14 ] [ 21 ] [ 28 ] [ 35 ] [ 42 ] [ 49 ] [ 56 ] [ 63 ] [ 70 ] \n",
      "[ 8 ] [ 16 ] [ 24 ] [ 32 ] [ 40 ] [ 48 ] [ 56 ] [ 64 ] [ 72 ] [ 80 ] \n",
      "[ 9 ] [ 18 ] [ 27 ] [ 36 ] [ 45 ] [ 54 ] [ 63 ] [ 72 ] [ 81 ] [ 90 ] \n",
      "[ 10 ] [ 20 ] [ 30 ] [ 40 ] [ 50 ] [ 60 ] [ 70 ] [ 80 ] [ 90 ] [ 100 ] \n"
     ]
    }
   ],
   "source": [
    "for i in range (1,11):\n",
    "    for j in range (1,11):\n",
    "        print(\"[\",i*j, \"]\", end= \" \")\n",
    "    print('')"
   ]
  },
  {
   "cell_type": "code",
   "execution_count": 5,
   "id": "f99988c9",
   "metadata": {},
   "outputs": [
    {
     "name": "stdout",
     "output_type": "stream",
     "text": [
      "1 1 \n",
      "2 1 2 2 \n",
      "3 1 3 2 3 3 \n",
      "4 1 4 2 4 3 4 4 \n",
      "5 1 5 2 5 3 5 4 5 5 \n",
      "6 1 6 2 6 3 6 4 6 5 6 6 \n",
      "7 1 7 2 7 3 7 4 7 5 7 6 7 7 \n"
     ]
    }
   ],
   "source": [
    "rows = 7\n",
    "# outer loop\n",
    "for i in range(1, rows + 1):\n",
    "    # inner loop\n",
    "    for j in range(1, i + 1):\n",
    "        #for k in range(1, i - 1):\n",
    "        print( i, j, end=\" \")\n",
    "    print('')"
   ]
  }
 ],
 "metadata": {
  "kernelspec": {
   "display_name": "Python 3 (ipykernel)",
   "language": "python",
   "name": "python3"
  },
  "language_info": {
   "codemirror_mode": {
    "name": "ipython",
    "version": 3
   },
   "file_extension": ".py",
   "mimetype": "text/x-python",
   "name": "python",
   "nbconvert_exporter": "python",
   "pygments_lexer": "ipython3",
   "version": "3.9.12"
  }
 },
 "nbformat": 4,
 "nbformat_minor": 5
}
